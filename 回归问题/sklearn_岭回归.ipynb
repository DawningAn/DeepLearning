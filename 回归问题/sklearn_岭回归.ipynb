{
 "cells": [
  {
   "cell_type": "code",
   "execution_count": 3,
   "metadata": {
    "collapsed": true
   },
   "outputs": [],
   "source": [
    "#根据longley数据集来预测结果GNP.deflator(平减指数)\n",
    "#观察数据有六个特征\n",
    "import numpy as np\n",
    "from sklearn import linear_model\n",
    "import matplotlib.pyplot as plt"
   ]
  },
  {
   "cell_type": "code",
   "execution_count": 4,
   "outputs": [
    {
     "name": "stdout",
     "output_type": "stream",
     "text": [
      "[[     nan      nan      nan      nan      nan      nan      nan      nan]\n",
      " [     nan   83.     234.289  235.6    159.     107.608 1947.      60.323]\n",
      " [     nan   88.5    259.426  232.5    145.6    108.632 1948.      61.122]\n",
      " [     nan   88.2    258.054  368.2    161.6    109.773 1949.      60.171]\n",
      " [     nan   89.5    284.599  335.1    165.     110.929 1950.      61.187]\n",
      " [     nan   96.2    328.975  209.9    309.9    112.075 1951.      63.221]\n",
      " [     nan   98.1    346.999  193.2    359.4    113.27  1952.      63.639]\n",
      " [     nan   99.     365.385  187.     354.7    115.094 1953.      64.989]\n",
      " [     nan  100.     363.112  357.8    335.     116.219 1954.      63.761]\n",
      " [     nan  101.2    397.469  290.4    304.8    117.388 1955.      66.019]\n",
      " [     nan  104.6    419.18   282.2    285.7    118.734 1956.      67.857]\n",
      " [     nan  108.4    442.769  293.6    279.8    120.445 1957.      68.169]\n",
      " [     nan  110.8    444.546  468.1    263.7    121.95  1958.      66.513]\n",
      " [     nan  112.6    482.704  381.3    255.2    123.366 1959.      68.655]\n",
      " [     nan  114.2    502.601  393.1    251.4    125.368 1960.      69.564]\n",
      " [     nan  115.7    518.173  480.6    257.2    127.852 1961.      69.331]\n",
      " [     nan  116.9    554.894  400.7    282.7    130.081 1962.      70.551]]\n"
     ]
    }
   ],
   "source": [
    "#读入数据\n",
    "data = np.genfromtxt(\"longley.csv\",delimiter = ',')\n",
    "print(data)  #字符串"
   ],
   "metadata": {
    "collapsed": false
   }
  },
  {
   "cell_type": "code",
   "execution_count": 5,
   "outputs": [
    {
     "name": "stdout",
     "output_type": "stream",
     "text": [
      "[[ 234.289  235.6    159.     107.608 1947.      60.323]\n",
      " [ 259.426  232.5    145.6    108.632 1948.      61.122]\n",
      " [ 258.054  368.2    161.6    109.773 1949.      60.171]\n",
      " [ 284.599  335.1    165.     110.929 1950.      61.187]\n",
      " [ 328.975  209.9    309.9    112.075 1951.      63.221]\n",
      " [ 346.999  193.2    359.4    113.27  1952.      63.639]\n",
      " [ 365.385  187.     354.7    115.094 1953.      64.989]\n",
      " [ 363.112  357.8    335.     116.219 1954.      63.761]\n",
      " [ 397.469  290.4    304.8    117.388 1955.      66.019]\n",
      " [ 419.18   282.2    285.7    118.734 1956.      67.857]\n",
      " [ 442.769  293.6    279.8    120.445 1957.      68.169]\n",
      " [ 444.546  468.1    263.7    121.95  1958.      66.513]\n",
      " [ 482.704  381.3    255.2    123.366 1959.      68.655]\n",
      " [ 502.601  393.1    251.4    125.368 1960.      69.564]\n",
      " [ 518.173  480.6    257.2    127.852 1961.      69.331]\n",
      " [ 554.894  400.7    282.7    130.081 1962.      70.551]]\n",
      "[ 83.   88.5  88.2  89.5  96.2  98.1  99.  100.  101.2 104.6 108.4 110.8\n",
      " 112.6 114.2 115.7 116.9]\n"
     ]
    }
   ],
   "source": [
    "#切分数据\n",
    "x_data = data[1:,2:]\n",
    "y_data = data[1:,1]\n",
    "print(x_data)\n",
    "print(y_data)"
   ],
   "metadata": {
    "collapsed": false
   }
  },
  {
   "cell_type": "code",
   "execution_count": 13,
   "outputs": [
    {
     "name": "stdout",
     "output_type": "stream",
     "text": [
      "[0.001      0.02138776 0.04177551 0.06216327 0.08255102 0.10293878\n",
      " 0.12332653 0.14371429 0.16410204 0.1844898  0.20487755 0.22526531\n",
      " 0.24565306 0.26604082 0.28642857 0.30681633 0.32720408 0.34759184\n",
      " 0.36797959 0.38836735 0.4087551  0.42914286 0.44953061 0.46991837\n",
      " 0.49030612 0.51069388 0.53108163 0.55146939 0.57185714 0.5922449\n",
      " 0.61263265 0.63302041 0.65340816 0.67379592 0.69418367 0.71457143\n",
      " 0.73495918 0.75534694 0.77573469 0.79612245 0.8165102  0.83689796\n",
      " 0.85728571 0.87767347 0.89806122 0.91844898 0.93883673 0.95922449\n",
      " 0.97961224 1.        ]\n",
      "0.40875510204081633\n",
      "(16, 50)\n"
     ]
    }
   ],
   "source": [
    "#考虑岭回归模型\n",
    "#生成50个值\n",
    "alpha_test = np.linspace(0.001,1)  #默认50个值(从0.001到1的系数)\n",
    "print(alpha_test)  #\n",
    "#创建模型\n",
    "#把上面生成的50个数传入这个岭回归模型，交叉验证法会测试这50个值\n",
    "model = linear_model.RidgeCV(alphas = alpha_test,store_cv_values=True)  #CV代表交叉验证;保存结果\n",
    "model.fit(x_data,y_data)\n",
    "\n",
    "#岭系数\n",
    "#这里就会判断50个系数里哪一个比较好，最好的岭系数进行打印\n",
    "print(model.alpha_)\n",
    "#loss\n",
    "print(model.cv_values_.shape)  #116行的交叉验证，50列岭系数，该矩阵就全是loss值了"
   ],
   "metadata": {
    "collapsed": false
   }
  },
  {
   "cell_type": "code",
   "execution_count": 14,
   "outputs": [
    {
     "data": {
      "text/plain": "<Figure size 640x480 with 1 Axes>",
      "image/png": "[encoded data removed]"
     },
     "metadata": {},
     "output_type": "display_data"
    }
   ],
   "source": [
    "#画出岭系数与loss值的关系图\n",
    "plt.plot(alpha_test,model.cv_values_.mean(axis=0))  #这50个岭系数对应的loss值的平均值\n",
    "#选取岭系数的位置(最低点：使得交叉验证的loss值最低)\n",
    "plt.plot(model.alpha_,min(model.cv_values_.mean(axis=0)),'r*')\n",
    "plt.show()"
   ],
   "metadata": {
    "collapsed": false
   }
  },
  {
   "cell_type": "code",
   "execution_count": 17,
   "outputs": [
    {
     "data": {
      "text/plain": "array([86.92050262])"
     },
     "execution_count": 17,
     "metadata": {},
     "output_type": "execute_result"
    }
   ],
   "source": [
    "#可以进行验证，就把原始数据集的第2个样本进行传入，让该模型进行预测结果\n",
    "#x_data[1,np.newaxis]  即就是传入第二个样本，第二个样本的真是结果（GNP平减）是88.5\n",
    "model.predict(x_data[1,np.newaxis])"
   ],
   "metadata": {
    "collapsed": false
   }
  }
 ],
 "metadata": {
  "kernelspec": {
   "display_name": "Python 3",
   "language": "python",
   "name": "python3"
  },
  "language_info": {
   "codemirror_mode": {
    "name": "ipython",
    "version": 2
   },
   "file_extension": ".py",
   "mimetype": "text/x-python",
   "name": "python",
   "nbconvert_exporter": "python",
   "pygments_lexer": "ipython2",
   "version": "2.7.6"
  }
 },
 "nbformat": 4,
 "nbformat_minor": 0
}
